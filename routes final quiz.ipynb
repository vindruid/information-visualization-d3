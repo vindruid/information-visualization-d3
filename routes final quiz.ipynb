{
 "cells": [
  {
   "cell_type": "code",
   "execution_count": 1,
   "metadata": {},
   "outputs": [],
   "source": [
    "import pandas as pd"
   ]
  },
  {
   "cell_type": "code",
   "execution_count": 2,
   "metadata": {},
   "outputs": [],
   "source": [
    "df = pd.read_csv('routes.csv')"
   ]
  },
  {
   "cell_type": "code",
   "execution_count": 5,
   "metadata": {},
   "outputs": [
    {
     "data": {
      "text/plain": [
       "Index(['ID', 'AirlineID', 'AirlineName', 'AirlineCountry', 'SourceAirportID',\n",
       "       'SourceAirportCode', 'SourceAirport', 'SourceCity', 'SourceCountry',\n",
       "       'SourceLatitude', 'SourceLongitude', 'DestAirportID', 'DestCode',\n",
       "       'DestAirport', 'DestCity', 'DestCountry', 'DestLatitude',\n",
       "       'DestLongitude'],\n",
       "      dtype='object')"
      ]
     },
     "execution_count": 5,
     "metadata": {},
     "output_type": "execute_result"
    }
   ],
   "source": [
    "df.columns"
   ]
  },
  {
   "cell_type": "code",
   "execution_count": 6,
   "metadata": {},
   "outputs": [
    {
     "data": {
      "text/plain": [
       "array(['United States', 'Germany', 'Canada', 'France', 'Italy', 'China',\n",
       "       'Ireland', 'Spain', 'Netherlands', 'Turkey', 'United Kingdom'],\n",
       "      dtype=object)"
      ]
     },
     "execution_count": 6,
     "metadata": {},
     "output_type": "execute_result"
    }
   ],
   "source": [
    "df.AirlineCountry.unique()"
   ]
  },
  {
   "cell_type": "code",
   "execution_count": 4,
   "metadata": {},
   "outputs": [
    {
     "data": {
      "text/plain": [
       "array(['American Airlines', 'Air Berlin', 'Air Canada', 'Air France',\n",
       "       'Alitalia', 'Air China', 'China Southern Airlines',\n",
       "       'Delta Air Lines', 'AirTran Airways', 'Ryanair', 'Iberia Airlines',\n",
       "       'KLM Royal Dutch Airlines', 'Lufthansa', 'China Eastern Airlines',\n",
       "       'Turkish Airlines', 'easyJet', 'US Airways', 'Southwest Airlines',\n",
       "       'Shenzhen Airlines'], dtype=object)"
      ]
     },
     "execution_count": 4,
     "metadata": {},
     "output_type": "execute_result"
    }
   ],
   "source": [
    "df.AirlineName.unique()"
   ]
  },
  {
   "cell_type": "code",
   "execution_count": 13,
   "metadata": {},
   "outputs": [
    {
     "data": {
      "text/plain": [
       "array(['Germany', 'Spain', 'Switzerland', 'Austria', 'Bahrain',\n",
       "       'Thailand', 'China', 'Singapore', 'United Arab Emirates', 'Italy',\n",
       "       'Greece', 'United Kingdom', 'Turkey', 'France', 'Egypt', 'Serbia',\n",
       "       'Denmark', 'Mexico', 'Netherlands Antilles', 'Tunisia', 'Russia',\n",
       "       'Portugal', 'Guernsey', 'Finland', 'Jersey', 'United States',\n",
       "       'Dominican Republic', 'Latvia', 'Israel', 'Cuba', 'Jordan',\n",
       "       'Croatia', 'Japan', 'Australia', 'Sweden', 'Hungary', 'Poland',\n",
       "       'Norway', 'Romania', 'Bulgaria', 'Cyprus', 'Malta'], dtype=object)"
      ]
     },
     "execution_count": 13,
     "metadata": {},
     "output_type": "execute_result"
    }
   ],
   "source": [
    "df.loc[df.AirlineName == 'Air Berlin']['DestCountry'].unique()"
   ]
  },
  {
   "cell_type": "code",
   "execution_count": 14,
   "metadata": {},
   "outputs": [
    {
     "data": {
      "text/plain": [
       "array(['Netherlands', 'United States', 'France', 'Nigeria', 'Djibouti',\n",
       "       'Kenya', 'China', 'Denmark', 'United Kingdom', 'Ghana', 'Norway',\n",
       "       'Kazakhstan', 'Sweden', 'Greece', 'Aruba', 'United Arab Emirates',\n",
       "       'Spain', 'Thailand', 'Italy', 'India', 'Germany', 'Belgium',\n",
       "       'Hungary', 'Egypt', 'South Africa', 'Netherlands Antilles',\n",
       "       'Saudi Arabia', 'Argentina', 'Japan', 'Brazil', 'Switzerland',\n",
       "       'Cuba', 'Finland', 'Hong Kong', 'Zimbabwe', 'South Korea',\n",
       "       'Turkey', 'Tanzania', 'Ukraine', 'Rwanda', 'Malaysia', 'Kuwait',\n",
       "       'Angola', 'Cyprus', 'Russia', 'Peru', 'Portugal', 'Luxembourg',\n",
       "       'Mexico', 'Romania', 'Suriname', 'Czech Republic', 'Panama',\n",
       "       'Latvia', 'Singapore', 'Georgia', 'Estonia', 'Israel', 'Taiwan',\n",
       "       'Ecuador', 'Austria', 'Poland', 'Canada', 'Ireland', 'Puerto Rico',\n",
       "       'Virgin Islands', 'Bahrain', 'Pakistan', 'Congo (Kinshasa)',\n",
       "       'Algeria', 'Morocco', 'Cameroon', 'Niger', 'Dominican Republic',\n",
       "       'Liberia', 'Australia', 'Equatorial Guinea', 'Comoros', 'Uruguay',\n",
       "       'Chile', 'Zambia', 'Congo (Brazzaville)', 'Ethiopia', 'Burundi',\n",
       "       'Uganda', 'Indonesia', 'Malawi', 'Mayotte', 'Burkina Faso',\n",
       "       'Costa Rica', 'Sierra Leone', 'Guatemala', 'Honduras',\n",
       "       'Philippines'], dtype=object)"
      ]
     },
     "execution_count": 14,
     "metadata": {},
     "output_type": "execute_result"
    }
   ],
   "source": [
    "df.loc[df.AirlineName == 'KLM Royal Dutch Airlines']['DestCountry'].unique()"
   ]
  },
  {
   "cell_type": "code",
   "execution_count": 16,
   "metadata": {},
   "outputs": [
    {
     "data": {
      "text/plain": [
       "array(['Belgium', 'Burkina Faso', 'Saudi Arabia', 'Denmark', 'Canada',\n",
       "       'United States', 'Kenya', 'South Korea', 'Japan', 'Burundi',\n",
       "       'Benin', 'Senegal', 'Cameroon', 'Rwanda', 'Angola',\n",
       "       \"Cote d'Ivoire\", 'Netherlands', 'Norway', 'Lithuania', 'Poland',\n",
       "       'Guinea', 'Congo (Kinshasa)', 'Chile', 'Cyprus', 'Italy', 'Spain',\n",
       "       'Thailand', 'Ethiopia', 'Germany', 'Turkey', 'Uganda', 'Guatemala',\n",
       "       'Bulgaria', 'Argentina', 'United Kingdom', 'Dominican Republic',\n",
       "       'Cuba', 'France', 'Mexico', 'Martinique', 'Switzerland', 'Jamaica',\n",
       "       'Haiti', 'Guadeloupe', 'Bahamas', 'New Zealand', 'Hong Kong',\n",
       "       'China', 'Australia', 'Antigua and Barbuda', 'Aruba',\n",
       "       'United Arab Emirates', 'Bermuda', 'Barbados', 'Colombia',\n",
       "       'Ireland', 'Cayman Islands', 'Grenada', 'Brazil', 'Peru',\n",
       "       'Costa Rica', 'Turks and Caicos Islands', 'Israel', 'Saint Lucia',\n",
       "       'Austria'], dtype=object)"
      ]
     },
     "execution_count": 16,
     "metadata": {},
     "output_type": "execute_result"
    }
   ],
   "source": [
    "df.loc[df.AirlineName == 'Air Canada']['DestCountry'].unique()"
   ]
  },
  {
   "cell_type": "code",
   "execution_count": 15,
   "metadata": {},
   "outputs": [
    {
     "data": {
      "text/plain": [
       "array(['Spain', 'United Kingdom', 'Italy', 'France', 'Belgium', 'Ireland',\n",
       "       'Netherlands', 'Germany', 'Denmark', 'Slovakia', 'Sweden',\n",
       "       'Norway', 'Poland', 'Finland', 'Lithuania', 'Greece', 'Cyprus',\n",
       "       'Hungary', 'Morocco', 'Portugal', 'Malta', 'Latvia', 'Estonia',\n",
       "       'Croatia', 'Montenegro', 'Romania', 'Czech Republic', 'Bulgaria',\n",
       "       'Austria'], dtype=object)"
      ]
     },
     "execution_count": 15,
     "metadata": {},
     "output_type": "execute_result"
    }
   ],
   "source": [
    "df.loc[df.AirlineName == 'Ryanair']['DestCountry'].unique()"
   ]
  },
  {
   "cell_type": "code",
   "execution_count": 17,
   "metadata": {},
   "outputs": [
    {
     "data": {
      "text/plain": [
       "array(['Belgium', 'Togo', 'Burkina Faso', 'Germany', 'Equatorial Guinea',\n",
       "       'Tanzania', 'Uganda', 'Zimbabwe', 'Saudi Arabia', 'Kenya',\n",
       "       'Kazakhstan', 'United States', 'Azerbaijan', 'Oman', 'Thailand',\n",
       "       \"Cote d'Ivoire\", 'Burundi', 'Benin', 'Senegal', 'Cameroon',\n",
       "       'Sierra Leone', 'Rwanda', 'Angola', 'Italy', 'Lithuania', 'Canada',\n",
       "       'Austria', 'Colombia', 'Norway', 'Malta', 'Brazil', 'Guinea',\n",
       "       'Congo (Kinshasa)', 'Kuwait', 'Spain', 'Sweden', 'Greece',\n",
       "       'Turkey', 'United Kingdom', 'Hungary', 'France', 'Denmark',\n",
       "       'Croatia', 'Russia', 'Japan', 'Romania', 'China', 'Poland',\n",
       "       'Switzerland', 'Netherlands', 'Ireland', 'Liberia', 'Nigeria',\n",
       "       'Ghana', 'Ethiopia', 'Algeria', 'Jordan', 'United Arab Emirates',\n",
       "       'Serbia', 'Lebanon', 'India', 'Egypt', 'Venezuela', 'Morocco',\n",
       "       'Iraq', 'Argentina', 'Portugal', 'Finland', 'Hong Kong',\n",
       "       'South Korea', 'Iran', 'South Africa', 'Ukraine', 'Malaysia',\n",
       "       'Cyprus', 'Slovenia', 'Mexico', 'Belarus', 'Czech Republic',\n",
       "       'Latvia', 'Singapore', 'Bulgaria', 'Estonia', 'Israel', 'Tunisia',\n",
       "       'Turkmenistan', 'Zambia', 'Ecuador', 'Moldova', 'Luxembourg',\n",
       "       'Bosnia and Herzegovina', 'Georgia', 'Albania'], dtype=object)"
      ]
     },
     "execution_count": 17,
     "metadata": {},
     "output_type": "execute_result"
    }
   ],
   "source": [
    "df.loc[df.AirlineName == 'Lufthansa']['DestCountry'].unique()"
   ]
  },
  {
   "cell_type": "code",
   "execution_count": 18,
   "metadata": {},
   "outputs": [
    {
     "data": {
      "text/plain": [
       "array(['China', 'Ethiopia', 'Japan', 'Hong Kong', 'Taiwan', 'Thailand',\n",
       "       'South Korea', 'Singapore', 'Macau'], dtype=object)"
      ]
     },
     "execution_count": 18,
     "metadata": {},
     "output_type": "execute_result"
    }
   ],
   "source": [
    "df.loc[df.AirlineName == 'Shenzhen Airlines']['DestCountry'].unique()"
   ]
  },
  {
   "cell_type": "code",
   "execution_count": 22,
   "metadata": {},
   "outputs": [
    {
     "data": {
      "text/plain": [
       "array(['United States', 'Aruba', 'Mexico', 'Jamaica', 'Bahamas',\n",
       "       'Dominican Republic', 'Puerto Rico'], dtype=object)"
      ]
     },
     "execution_count": 22,
     "metadata": {},
     "output_type": "execute_result"
    }
   ],
   "source": [
    "df.loc[df.AirlineName == 'Southwest Airlines']['DestCountry'].unique()"
   ]
  },
  {
   "cell_type": "code",
   "execution_count": 24,
   "metadata": {},
   "outputs": [
    {
     "data": {
      "text/plain": [
       "array(['United States', 'New Zealand', 'Canada', 'Portugal', 'Mexico',\n",
       "       'Greece', 'Antigua and Barbuda', 'Aruba', 'Belize', 'France',\n",
       "       'Ireland', 'Italy', 'Bahamas', 'Germany', 'Cayman Islands',\n",
       "       'Brazil', 'United Kingdom', 'Costa Rica', 'Jamaica',\n",
       "       'Turks and Caicos Islands', 'Dominican Republic', 'Puerto Rico',\n",
       "       'Virgin Islands', 'Netherlands Antilles', 'Saint Lucia',\n",
       "       'Colombia', 'Guatemala', 'South Korea', 'Peru', 'Spain', 'Japan',\n",
       "       'Panama', 'Honduras', 'El Salvador', 'Chile', 'South Africa',\n",
       "       'Haiti', 'Turkey', 'Singapore', 'Senegal', 'Switzerland', 'Jordan',\n",
       "       'Bermuda', 'China', 'Cook Islands', 'Taiwan', 'Netherlands',\n",
       "       'Belgium', 'Bolivia', 'Paraguay', 'Barbados', 'Martinique',\n",
       "       'Grenada', 'Nicaragua', 'Uruguay', 'Trinidad and Tobago',\n",
       "       'Guadeloupe', 'Saint Kitts and Nevis', 'Israel', 'Hong Kong'],\n",
       "      dtype=object)"
      ]
     },
     "execution_count": 24,
     "metadata": {},
     "output_type": "execute_result"
    }
   ],
   "source": [
    "df.loc[df.AirlineName == 'US Airways']['DestCountry'].unique()"
   ]
  },
  {
   "cell_type": "code",
   "execution_count": 19,
   "metadata": {},
   "outputs": [
    {
     "data": {
      "text/plain": [
       "China          775\n",
       "Taiwan           4\n",
       "Japan            4\n",
       "Thailand         1\n",
       "Hong Kong        1\n",
       "South Korea      1\n",
       "Macau            1\n",
       "Singapore        1\n",
       "Ethiopia         1\n",
       "Name: DestCountry, dtype: int64"
      ]
     },
     "execution_count": 19,
     "metadata": {},
     "output_type": "execute_result"
    }
   ],
   "source": [
    "df.loc[df.AirlineName == 'Shenzhen Airlines']['DestCountry'].value_counts()"
   ]
  },
  {
   "cell_type": "code",
   "execution_count": 23,
   "metadata": {},
   "outputs": [
    {
     "data": {
      "text/plain": [
       "array(['United States', 'Aruba', 'Mexico', 'Jamaica', 'Bahamas',\n",
       "       'Dominican Republic', 'Puerto Rico'], dtype=object)"
      ]
     },
     "execution_count": 23,
     "metadata": {},
     "output_type": "execute_result"
    }
   ],
   "source": [
    "df.loc[df.AirlineName == 'AirTran Airways']['DestCountry'].unique()"
   ]
  },
  {
   "cell_type": "code",
   "execution_count": 21,
   "metadata": {},
   "outputs": [
    {
     "data": {
      "text/plain": [
       "China          775\n",
       "Taiwan           4\n",
       "Japan            4\n",
       "Thailand         1\n",
       "Hong Kong        1\n",
       "South Korea      1\n",
       "Macau            1\n",
       "Singapore        1\n",
       "Ethiopia         1\n",
       "Name: SourceCountry, dtype: int64"
      ]
     },
     "execution_count": 21,
     "metadata": {},
     "output_type": "execute_result"
    }
   ],
   "source": [
    "df.loc[df.AirlineName == 'Shenzhen Airlines']['SourceCountry'].value_counts()"
   ]
  },
  {
   "cell_type": "code",
   "execution_count": null,
   "metadata": {},
   "outputs": [],
   "source": []
  }
 ],
 "metadata": {
  "kernelspec": {
   "display_name": "Python 3",
   "language": "python",
   "name": "python3"
  },
  "language_info": {
   "codemirror_mode": {
    "name": "ipython",
    "version": 3
   },
   "file_extension": ".py",
   "mimetype": "text/x-python",
   "name": "python",
   "nbconvert_exporter": "python",
   "pygments_lexer": "ipython3",
   "version": "3.7.1"
  }
 },
 "nbformat": 4,
 "nbformat_minor": 2
}
